{
 "cells": [
  {
   "cell_type": "code",
   "execution_count": null,
   "id": "5ec59363-a506-4b51-845b-d73f7f5b5e95",
   "metadata": {},
   "outputs": [],
   "source": [
    "import numpy as np\n",
    "import pandas as pd\n",
    "import scanpy as sc\n",
    "import leidenalg\n",
    "import umap"
   ]
  },
  {
   "cell_type": "code",
   "execution_count": null,
   "id": "95d22a78-a246-4e31-a1d6-1532643fefa9",
   "metadata": {},
   "outputs": [],
   "source": [
    "# transferred cell embeddings\n",
    "sc_dataset = np.load(\"scVAE_Embedding.npy\")\n",
    "cell = pd.DataFrame(sc_dataset, index=[f'X{i}' for i in range(sc_dataset.shape[0])])\n",
    "adata = sc.AnnData(sc_dataset)# 转换为 AnnData 对象\n",
    "adata.obs_names = [\"X\"+str(name) for name in adata.obs_names]\n",
    "cell.to_csv('sc_sfvae.csv', index=False)"
   ]
  },
  {
   "cell_type": "code",
   "execution_count": null,
   "id": "b2684aa8-a596-41ef-b9a0-c1f68ece888d",
   "metadata": {},
   "outputs": [],
   "source": [
    "# transferred sample embeddings\n",
    "bulk_dataset = np.load(\"bulkVAE_Embedding.npy\")\n",
    "sample = pd.DataFrame(bulk_dataset)\n",
    "sample.to_csv('bulk_sfVAE.csv', index=False)"
   ]
  },
  {
   "cell_type": "code",
   "execution_count": null,
   "id": "65a802d8-ad7e-48ce-8388-d4bce2734615",
   "metadata": {},
   "outputs": [],
   "source": [
    "# umap coordinates\n",
    "reducer = umap.UMAP(n_components=2, random_state=42)\n",
    "sc_embedding = reducer.fit_transform(sc_dataset)\n",
    "pd.DataFrame(sc_embedding).to_csv('umap_embedding_sfvae.csv', index=False)"
   ]
  },
  {
   "cell_type": "code",
   "execution_count": null,
   "id": "eeb80b85-f042-49a1-bc2a-19ba2f98c580",
   "metadata": {},
   "outputs": [],
   "source": [
    "# Build KNN graph and convert to SNN graph (weighted adjacency graph)\n",
    "sc.pp.neighbors(adata, n_neighbors=15, use_rep='X')  # 使用高维 embedding 计算 KNN 图\n",
    "\n",
    "# Apply Leiden clustering\n",
    "sc.tl.leiden(adata, resolution=0.5)  # 分辨率调整聚类数量\n",
    "\n",
    "# Leiden cluster labels are stored in adata.obs['leiden']\n",
    "leiden_labels = adata.obs['leiden'].to_numpy()\n",
    "\n",
    "leiden_cluster = pd.DataFrame({\"Leiden_Cluster\": leiden_labels})\n",
    "leiden_cluster.to_csv(\"leiden_cluster.csv\",index=False)"
   ]
  }
 ],
 "metadata": {
  "kernelspec": {
   "display_name": "Python 3 (ipykernel)",
   "language": "python",
   "name": "python3"
  },
  "language_info": {
   "codemirror_mode": {
    "name": "ipython",
    "version": 3
   },
   "file_extension": ".py",
   "mimetype": "text/x-python",
   "name": "python",
   "nbconvert_exporter": "python",
   "pygments_lexer": "ipython3",
   "version": "3.10.12"
  }
 },
 "nbformat": 4,
 "nbformat_minor": 5
}
